{
 "cells": [
  {
   "cell_type": "code",
   "execution_count": 1,
   "metadata": {},
   "outputs": [],
   "source": [
    "from Bio.SeqIO import FastaIO\n",
    "from tqdm import tqdm\n",
    "\n",
    "import sys\n",
    "sys.path.insert(0, \"../../\")\n",
    "from seqlearn.seq2vec.gensim import Seq2Vec"
   ]
  },
  {
   "cell_type": "code",
   "execution_count": 2,
   "metadata": {},
   "outputs": [],
   "source": [
    "seq2vec = Seq2Vec(vec_size=100, k=6, stride=1)"
   ]
  },
  {
   "cell_type": "code",
   "execution_count": 3,
   "metadata": {},
   "outputs": [
    {
     "name": "stderr",
     "output_type": "stream",
     "text": [
      "2987it [00:00, 128394.87it/s]\n",
      "2987it [00:00, 87511.95it/s]\n"
     ]
    }
   ],
   "source": [
    "neg_fasta = \"../../data/Classification/ABI5-neg.fasta\"\n",
    "pos_fasta = \"../../data/Classification/ABI5-pos.fasta\"\n",
    "\n",
    "neg_seqs = []; pos_seqs = []\n",
    "for fasta in neg_fasta, pos_fasta:\n",
    "    with open(fasta) as f:\n",
    "        for s in tqdm(FastaIO.FastaIterator(f)):\n",
    "            seq = str(s.seq).upper()\n",
    "            if seq2vec.vocab.unknow_char in seq:\n",
    "                continue\n",
    "            if fasta == neg_fasta:\n",
    "                neg_seqs.append(seq)\n",
    "            else:\n",
    "                pos_seqs.append(seq)"
   ]
  },
  {
   "cell_type": "code",
   "execution_count": 4,
   "metadata": {
    "scrolled": true
   },
   "outputs": [
    {
     "name": "stderr",
     "output_type": "stream",
     "text": [
      "5960it [00:41, 143.93it/s]\n"
     ]
    }
   ],
   "source": [
    "seq2vec.build_from_seqs(neg_seqs+pos_seqs)"
   ]
  },
  {
   "cell_type": "code",
   "execution_count": 5,
   "metadata": {
    "scrolled": true
   },
   "outputs": [
    {
     "name": "stderr",
     "output_type": "stream",
     "text": [
      "100%|██████████| 2973/2973 [00:28<00:00, 104.66it/s]\n",
      "100%|██████████| 2987/2987 [00:28<00:00, 106.05it/s]\n"
     ]
    }
   ],
   "source": [
    "neg_vecs = []; pos_vecs = []\n",
    "for seqs in neg_seqs, pos_seqs:\n",
    "    for seq in tqdm(seqs):\n",
    "        try:\n",
    "            v = seq2vec.seq_to_vec(seq)\n",
    "        except AssertionError:\n",
    "            continue\n",
    "        \n",
    "        if seqs == neg_seqs:\n",
    "            neg_vecs.append(v)\n",
    "        else:\n",
    "            pos_vecs.append(v)"
   ]
  },
  {
   "cell_type": "code",
   "execution_count": 8,
   "metadata": {},
   "outputs": [],
   "source": [
    "import numpy as np\n",
    "\n",
    "X_neg = np.vstack(neg_vecs)\n",
    "X_pos = np.vstack(pos_vecs)\n",
    "X = np.vstack([X_neg, X_pos])\n",
    "y = np.hstack([np.zeros(len(neg_vecs)), np.ones(len(pos_vecs))])"
   ]
  },
  {
   "cell_type": "code",
   "execution_count": 11,
   "metadata": {},
   "outputs": [
    {
     "data": {
      "text/plain": [
       "((5959, 100), (5959,))"
      ]
     },
     "execution_count": 11,
     "metadata": {},
     "output_type": "execute_result"
    }
   ],
   "source": [
    "X.shape, y.shape"
   ]
  }
 ],
 "metadata": {
  "@webio": {
   "lastCommId": null,
   "lastKernelId": null
  },
  "kernelspec": {
   "display_name": "Python 3",
   "language": "python",
   "name": "python3"
  },
  "language_info": {
   "codemirror_mode": {
    "name": "ipython",
    "version": 3
   },
   "file_extension": ".py",
   "mimetype": "text/x-python",
   "name": "python",
   "nbconvert_exporter": "python",
   "pygments_lexer": "ipython3",
   "version": "3.6.3"
  }
 },
 "nbformat": 4,
 "nbformat_minor": 2
}
